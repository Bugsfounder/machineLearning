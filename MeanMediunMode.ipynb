{
 "cells": [
  {
   "cell_type": "code",
   "execution_count": 2,
   "id": "8cf08bb9-8136-400b-87b5-6a6484e34148",
   "metadata": {
    "editable": true,
    "slideshow": {
     "slide_type": ""
    },
    "tags": []
   },
   "outputs": [
    {
     "name": "stdout",
     "output_type": "stream",
     "text": [
      "Hello\n"
     ]
    }
   ],
   "source": [
    "print(\"Hello\")"
   ]
  },
  {
   "cell_type": "code",
   "execution_count": 1,
   "id": "94d18171-3014-48e9-84a3-36d5378c27d6",
   "metadata": {
    "editable": true,
    "slideshow": {
     "slide_type": ""
    },
    "tags": []
   },
   "outputs": [],
   "source": [
    "# Mean --> The average of the data\n",
    "# (99+86+87+111+86+103+87+94+78+77+85+86) / 13 = 89.77\n",
    "# 13 is the number of elements"
   ]
  },
  {
   "cell_type": "code",
   "execution_count": 4,
   "id": "97c9cb3f-d688-4be4-b6c2-d39f62e4f37c",
   "metadata": {
    "editable": true,
    "slideshow": {
     "slide_type": ""
    },
    "tags": []
   },
   "outputs": [
    {
     "name": "stdout",
     "output_type": "stream",
     "text": [
      "89.76923076923077\n"
     ]
    }
   ],
   "source": [
    "import numpy\n",
    "speed = [99, 86, 87, 88, 111, 86,103,87,94,78,77,85,86]\n",
    "meanOfData= numpy.mean(speed)\n",
    "print(meanOfData)"
   ]
  },
  {
   "cell_type": "code",
   "execution_count": 6,
   "id": "22271d30-5d7f-4d1e-a8e1-62588cadda8c",
   "metadata": {
    "editable": true,
    "slideshow": {
     "slide_type": ""
    },
    "tags": []
   },
   "outputs": [
    {
     "name": "stdout",
     "output_type": "stream",
     "text": [
      "87.0\n"
     ]
    }
   ],
   "source": [
    "mediunOfData = numpy.median(speed)\n",
    "print(mediunOfData)"
   ]
  },
  {
   "cell_type": "code",
   "execution_count": 16,
   "id": "7e9ea337-6b15-47b8-b012-e8f596748e45",
   "metadata": {
    "editable": true,
    "slideshow": {
     "slide_type": ""
    },
    "tags": []
   },
   "outputs": [
    {
     "name": "stdout",
     "output_type": "stream",
     "text": [
      "ModeResult(mode=np.int64(86), count=np.int64(3))\n",
      "86\n",
      "3\n"
     ]
    }
   ],
   "source": [
    "from scipy import stats\n",
    "modeOfData = stats.mode(speed)\n",
    "print(modeOfData)\n",
    "print(modeOfData.mode) # What is the element which occurs the most\n",
    "print(modeOfData.count) # how many time it occurs"
   ]
  },
  {
   "cell_type": "code",
   "execution_count": null,
   "id": "5f957ed0-f0bc-48d5-8356-c12c2c44ad9a",
   "metadata": {
    "editable": true,
    "slideshow": {
     "slide_type": ""
    },
    "tags": []
   },
   "outputs": [],
   "source": []
  }
 ],
 "metadata": {
  "kernelspec": {
   "display_name": "Python 3 (ipykernel)",
   "language": "python",
   "name": "python3"
  },
  "language_info": {
   "codemirror_mode": {
    "name": "ipython",
    "version": 3
   },
   "file_extension": ".py",
   "mimetype": "text/x-python",
   "name": "python",
   "nbconvert_exporter": "python",
   "pygments_lexer": "ipython3",
   "version": "3.10.12"
  }
 },
 "nbformat": 4,
 "nbformat_minor": 5
}
